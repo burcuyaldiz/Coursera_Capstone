{
 "cells": [
  {
   "cell_type": "markdown",
   "metadata": {},
   "source": [
    "# Capstone Project - The Battle of the Neighborhoods (Week 1)"
   ]
  },
  {
   "cell_type": "markdown",
   "metadata": {},
   "source": [
    "### Introduction/Business Problem"
   ]
  },
  {
   "cell_type": "markdown",
   "metadata": {},
   "source": [
    "In this project I will compare Ankara and Istanbul which are two of the three largest cities in Turkey. Ankara is the capital city of Turkeya and Istanbul is one of the largest metropolises in the world. \n",
    "\n",
    "While more than 15 million people live in Istanbul, Ankara has a population of about 5 million. Ankara is the political center and Istanbul is the trade center of the country. Also, historical texture and cultural activities make Istanbul a center of attraction. \n",
    "\n",
    "I will examine and compare the neighborhoods of two cities for representing the skills that I have gained during the IBM Data Science Professional Certificate program."
   ]
  },
  {
   "cell_type": "code",
   "execution_count": null,
   "metadata": {},
   "outputs": [],
   "source": []
  }
 ],
 "metadata": {
  "kernelspec": {
   "display_name": "Python 3",
   "language": "python",
   "name": "python3"
  },
  "language_info": {
   "codemirror_mode": {
    "name": "ipython",
    "version": 3
   },
   "file_extension": ".py",
   "mimetype": "text/x-python",
   "name": "python",
   "nbconvert_exporter": "python",
   "pygments_lexer": "ipython3",
   "version": "3.7.4"
  }
 },
 "nbformat": 4,
 "nbformat_minor": 2
}
