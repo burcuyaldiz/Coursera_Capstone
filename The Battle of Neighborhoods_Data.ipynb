{
 "cells": [
  {
   "cell_type": "markdown",
   "metadata": {},
   "source": [
    "# Capstone Project - The Battle of the Neighborhoods (Week 1)"
   ]
  },
  {
   "cell_type": "markdown",
   "metadata": {},
   "source": [
    "### Data"
   ]
  },
  {
   "cell_type": "markdown",
   "metadata": {},
   "source": [
    "Second-level Administrative Divisions of the Turkey from Spatial Data Repository of NYU (https://geo.nyu.edu/catalog/stanford-nj696zj1674) will be used  for obtaining the boroughs and neighborhoods of two cities. This source provide us data related to districts of all cities in Turkey. I will filter the data for creating datasets of boroughs and neighbors of Ankara and Istanbul.\n",
    "\n",
    "Forsquare API will be used to get the most common venues of given Borough of Ankara and Istanbul."
   ]
  }
 ],
 "metadata": {
  "kernelspec": {
   "display_name": "Python 3",
   "language": "python",
   "name": "python3"
  },
  "language_info": {
   "codemirror_mode": {
    "name": "ipython",
    "version": 3
   },
   "file_extension": ".py",
   "mimetype": "text/x-python",
   "name": "python",
   "nbconvert_exporter": "python",
   "pygments_lexer": "ipython3",
   "version": "3.7.4"
  }
 },
 "nbformat": 4,
 "nbformat_minor": 2
}
